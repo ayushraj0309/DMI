{
 "cells": [
  {
   "cell_type": "code",
   "execution_count": 1,
   "metadata": {
    "id": "JsPVYTOl6QE5"
   },
   "outputs": [],
   "source": [
    "import numpy as np\n",
    "import pandas as pd\n",
    "import math\n",
    "\n",
    "\n",
    "from pprint import pprint\n",
    "\n",
    "\n",
    "                     \n",
    "\n",
    "#Implemented by Raunak Rathour\n",
    "\n",
    "\n",
    "df =pd.read_csv('heart.csv')\n",
    "df.sort_values(by =['slope'],inplace = True)\n",
    "#print(df)\n",
    "\n",
    "\n",
    "df1 = df[['slope', 'num']]\n",
    "data_heart =df1\n",
    "\n",
    "#da = np.column_stack((X,Y))\n",
    "#print(da)"
   ]
  },
  {
   "cell_type": "code",
   "execution_count": 3,
   "metadata": {
    "colab": {
     "base_uri": "https://localhost:8080/"
    },
    "id": "lEyb9U2Y8zjs",
    "outputId": "18ac3917-2076-4238-aa26-cec92f78d502"
   },
   "outputs": [
    {
     "name": "stdout",
     "output_type": "stream",
     "text": [
      " Tree will be like \n",
      "{'slope': {1.0: 0}}\n",
      "The accuracy is:  66.52719665271967 %\n"
     ]
    }
   ],
   "source": [
    "\n",
    "\n",
    "def entro_py(target_col):\n",
    " \n",
    "    elements,cnt = np.unique(target_col,return_counts = True)\n",
    "    entro_py = np.sum([(-cnt[i]/np.sum(cnt))*np.log2(cnt[i]/np.sum(cnt)) for i in range(len(elements))])\n",
    "    return entro_py\n",
    "\n",
    "def Information_gain_(data,splt_attribute_name,target_name=\"num\"):\n",
    "  \n",
    "    total_entro_py = entro_py(data[target_name])\n",
    "    vals,cnt= np.unique(data[splt_attribute_name],return_counts=True)\n",
    "    Weighted_Entropy = np.sum([(cnt[i]/np.sum(cnt))*entro_py(data.where(data[splt_attribute_name]==vals[i]).dropna()[target_name]) for i in range(len(vals))])\n",
    "    Information_Gain = total_entro_py - Weighted_Entropy\n",
    "    return Information_Gain\n",
    "\n",
    "def I_D_3_algo(data,originaldata,attributes,target_attribute_name=\"num\",parent_node_class = None):\n",
    " \n",
    "    if len(np.unique(data[target_attribute_name])) <= 1:\n",
    "        return np.unique(data[target_attribute_name])[0]\n",
    "    elif len(data)==0:\n",
    "        return np.unique(originaldata[target_attribute_name])[np.argmax(np.unique(originaldata[target_attribute_name],return_counts=True)[1])]\n",
    "    \n",
    "    elif len(attributes) ==0:\n",
    "        return parent_node_class\n",
    "    \n",
    "    else:\n",
    "        parent_node_class = np.unique(data[target_attribute_name])[np.argmax(np.unique(data[target_attribute_name],return_counts=True)[1])]\n",
    "        \n",
    "        item_values = [Information_gain_(data,attribute,target_attribute_name) for attribute in attributes] #Return the information gain values for the attributes in the data_heart\n",
    "        best_attribute_index = np.argmax(item_values)\n",
    "        best_attribute = attributes[best_attribute_index]\n",
    "        treee = {best_attribute:{}}\n",
    "\n",
    "        attributes = [i for i in attributes if i != best_attribute]\n",
    "\n",
    "        for value in np.unique(data[best_attribute]):\n",
    "            value = value\n",
    "            sub_data = data.where(data[best_attribute] == value).dropna()\n",
    "            subtreee = I_D_3_algo(sub_data,data_heart,attributes,target_attribute_name,parent_node_class)\n",
    "            treee[best_attribute][value] = subtreee    \n",
    "        return(treee)    \n",
    "\n",
    "def predict(query,treee,default = 1):\n",
    "    \n",
    "    for key in list(query.keys()):\n",
    "        if key in list(treee.keys()):\n",
    "            try:\n",
    "                result = treee[key][query[key]] \n",
    "            except:\n",
    "                return default\n",
    "  \n",
    "            result = treee[key][query[key]]\n",
    "            if isinstance(result,dict):\n",
    "                return predict(query,result)\n",
    "\n",
    "            else:\n",
    "                return result\n",
    "\n",
    "        \n",
    "        \n",
    "\n",
    "def train_test_splt(data_heart):\n",
    "    Train = data_heart.iloc[:100].reset_index(drop=True)\n",
    "    Test = data_heart.iloc[100:].reset_index(drop=True)\n",
    "    return Train,Test\n",
    "\n",
    "Train = train_test_splt(data_heart)[0]\n",
    "Test = train_test_splt(data_heart)[1] \n",
    "\n",
    "\n",
    "\n",
    "def test(data,treee):\n",
    "    queries = data.iloc[:,:-1].to_dict(orient = \"records\")\n",
    "    predicted = pd.DataFrame(columns=[\"predicted\"]) \n",
    "    for i in range(len(data)):\n",
    "        predicted.loc[i,\"predicted\"] = predict(queries[i],treee,1.0) \n",
    "    print('The accuracy is: ',(np.sum(predicted[\"predicted\"] == data[\"num\"])/len(data))*100,'%')\n",
    "    \n",
    "\n",
    "\n",
    "treee = I_D_3_algo(Train,Train,Train.columns[:-1])\n",
    "print(\" Tree will be like \")\n",
    "pprint(treee)\n",
    "\n",
    "test(Test,treee)"
   ]
  }
 ],
 "metadata": {
  "colab": {
   "name": "iit2018196_q2.ipynb",
   "provenance": []
  },
  "kernelspec": {
   "display_name": "Python 3",
   "language": "python",
   "name": "python3"
  },
  "language_info": {
   "codemirror_mode": {
    "name": "ipython",
    "version": 3
   },
   "file_extension": ".py",
   "mimetype": "text/x-python",
   "name": "python",
   "nbconvert_exporter": "python",
   "pygments_lexer": "ipython3",
   "version": "3.7.6"
  }
 },
 "nbformat": 4,
 "nbformat_minor": 1
}
