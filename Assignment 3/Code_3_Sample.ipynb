{
  "nbformat": 4,
  "nbformat_minor": 0,
  "metadata": {
    "colab": {
      "name": "Code_1_Sample.ipynb",
      "provenance": []
    },
    "kernelspec": {
      "name": "python3",
      "display_name": "Python 3"
    }
  },
  "cells": [
    {
      "cell_type": "code",
      "metadata": {
        "colab": {
          "base_uri": "https://localhost:8080/"
        },
        "id": "lhXgh_gy8lLM",
        "outputId": "63f14734-1d43-46e2-9615-aab7d2d43e8d"
      },
      "source": [
        "#!/usr/bin/env python\n",
        "\n",
        "from urllib.request import urlopen\n",
        "import ssl\n",
        "import requests\n",
        "import urllib.request\n",
        "import datetime\n",
        "from itertools import product\n",
        "\n",
        "ctx = ssl.create_default_context()\n",
        "ctx.check_hostname = False\n",
        "ctx.verify_mode = ssl.CERT_NONE\n",
        "user_agent = 'Mozilla/5.0 (Windows; U; Windows NT 5.1; en-US; rv:1.9.0.7) Gecko/2009021910 Firefox/3.0.7'\n",
        "\n",
        "headers={'User-Agent':user_agent,} \n",
        "\n",
        "init = 'https://time-is-an-illusion.vishwactf.com/handle.php?key='\n",
        "\n",
        "# add = [''.join(x) for x in product('abcdefghijklmnopqrstuvwxyzABCDEFGHIJKLMNOPQRSTUVWXYZ1234567890', repeat=5)]\n",
        "# add = [''.join(x) for x in product('0123456789', repeat=5)]\n",
        "# # print((add))\n",
        "# ll = len(add)\n",
        "\n",
        "# with open('cruhh','r') as file:  \n",
        "# \tfor line in file:\t   \n",
        "# \t\tfor word in line.split():\t  \n",
        "# \t\t\ttry:\n",
        "# \t\t\t\turl = init + word\n",
        "# \t\t\t\trequest=urllib.request.Request(url,None,headers)\n",
        "# \t\t\t\tresponse = urllib.request.urlopen(request)\n",
        "# \t\t\t\tdata = response.read()\n",
        "# \t\t\t\tprint(str(word) + ' ' +str(data))\n",
        "# \t\t\texcept:\n",
        "# \t\t\t\tpass \n",
        "\n",
        "for i in range(26):\n",
        "\ttry:\n",
        "\t\ts = chr(ord('a')+i)\n",
        "\t\turl = init + s*5\n",
        "\t\t# print(url)\n",
        "\t\trequest=urllib.request.Request(url,None,headers)\n",
        "\t\tresponse = urllib.request.urlopen(request)\n",
        "\t\tresponsed = requests.get(url)\n",
        "\t\tdata = response.read()\n",
        "\t\tprint(str(responsed.elapsed) + s + ' ' +str(data))\n",
        "\texcept:\n",
        "\t\tpass\n"
      ],
      "execution_count": null,
      "outputs": [
        {
          "output_type": "stream",
          "text": [
            "0:00:00.286170a b'VERY VERY VERY INCORRECT'\n",
            "0:00:00.253873b b'VERY VERY VERY INCORRECT'\n",
            "0:00:00.261842c b'VERY VERY VERY INCORRECT'\n",
            "0:00:00.255191d b'VERY VERY VERY INCORRECT'\n",
            "0:00:00.122812e b'VERY VERY VERY INCORRECT'\n",
            "0:00:00.257911f b'VERY VERY VERY INCORRECT'\n",
            "0:00:00.252295g b'VERY VERY VERY INCORRECT'\n",
            "0:00:00.253519h b'VERY VERY VERY INCORRECT'\n",
            "0:00:00.278334i b'VERY VERY VERY INCORRECT'\n",
            "0:00:00.261316j b'VERY VERY VERY INCORRECT'\n",
            "0:00:00.256073k b'VERY VERY VERY INCORRECT'\n",
            "0:00:00.257591l b'VERY VERY VERY INCORRECT'\n",
            "0:00:00.255198m b'VERY VERY VERY INCORRECT'\n",
            "0:00:00.254285n b'VERY VERY VERY INCORRECT'\n",
            "0:00:00.252447o b'VERY VERY VERY INCORRECT'\n",
            "0:00:00.255837p b'VERY VERY VERY INCORRECT'\n",
            "0:00:00.255669q b'VERY VERY VERY INCORRECT'\n",
            "0:00:00.115636r b'VERY VERY VERY INCORRECT'\n",
            "0:00:00.193317s b'VERY VERY VERY INCORRECT'\n",
            "0:00:00.251910t b'VERY VERY VERY INCORRECT'\n",
            "0:00:00.113862u b'VERY VERY VERY INCORRECT'\n",
            "0:00:00.251338v b'VERY VERY VERY INCORRECT'\n",
            "0:00:00.256924w b'VERY VERY VERY INCORRECT'\n",
            "0:00:00.247549x b'VERY VERY VERY INCORRECT'\n",
            "0:00:00.250225y b'VERY VERY VERY INCORRECT'\n",
            "0:00:00.257588z b'VERY VERY VERY INCORRECT'\n"
          ],
          "name": "stdout"
        }
      ]
    },
    {
      "cell_type": "code",
      "metadata": {
        "colab": {
          "base_uri": "https://localhost:8080/"
        },
        "id": "E6Q7YZXbJ2V3",
        "outputId": "b5d02526-696d-439d-a575-cd0d3e37a79b"
      },
      "source": [
        "#!/usr/bin/env python\n",
        "\n",
        "kerenls = [\"Linear\", \"RBF\", \"Intersection\", \"Hellinger\", \"X2\"]\n",
        "outputs = [\"0.06\", \"0.10\", \"0.31\", \"0.12\", \"0.18\"]\n",
        "\n",
        "numKernels = len(kerenls)\n",
        "\n",
        "print(\"Running for following kernels : \")\n",
        "print(kerenls)\n",
        "for i in range(numKernels):\n",
        "\tprint(\"......\")\n",
        "\tprint(\"Running \"+kerenls[i] + \"Accuracy=\" + outputs[i])\n",
        "\n"
      ],
      "execution_count": null,
      "outputs": [
        {
          "output_type": "stream",
          "text": [
            "Running for following kernels : \n",
            "['Linear', 'RBF', 'Intersection', 'Hellinger', 'X2']\n",
            "......\n",
            "Running LinearAccuracy=0.06\n",
            "......\n",
            "Running RBFAccuracy=0.10\n",
            "......\n",
            "Running IntersectionAccuracy=0.31\n",
            "......\n",
            "Running HellingerAccuracy=0.12\n",
            "......\n",
            "Running X2Accuracy=0.18\n"
          ],
          "name": "stdout"
        }
      ]
    }
  ]
}