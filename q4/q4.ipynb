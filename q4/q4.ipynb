{
  "nbformat": 4,
  "nbformat_minor": 0,
  "metadata": {
    "kernelspec": {
      "display_name": "Python 3",
      "language": "python",
      "name": "python3"
    },
    "language_info": {
      "codemirror_mode": {
        "name": "ipython",
        "version": 3
      },
      "file_extension": ".py",
      "mimetype": "text/x-python",
      "name": "python",
      "nbconvert_exporter": "python",
      "pygments_lexer": "ipython3",
      "version": "3.6.3"
    },
    "colab": {
      "name": "q4.ipynb",
      "provenance": [],
      "collapsed_sections": [],
      "toc_visible": true
    }
  },
  "cells": [
    {
      "cell_type": "code",
      "metadata": {
        "colab": {
          "base_uri": "https://localhost:8080/"
        },
        "id": "WFg8oEEt7Ohm",
        "outputId": "a2e8e8d7-788b-48de-ebc9-12580622d0f9"
      },
      "source": [
        ""
      ],
      "execution_count": 120,
      "outputs": [
        {
          "output_type": "stream",
          "text": [
            "/bin/bash: activate: No such file or directory\n"
          ],
          "name": "stdout"
        }
      ]
    },
    {
      "cell_type": "code",
      "metadata": {
        "id": "8qbKf0oC7Oh4"
      },
      "source": [
        "import numpy as np\n",
        "import pandas as pd\n",
        "import matplotlib.pyplot as plt\n",
        "import matplotlib as mpl\n",
        "% matplotlib inline"
      ],
      "execution_count": 121,
      "outputs": []
    },
    {
      "cell_type": "code",
      "metadata": {
        "collapsed": true,
        "id": "5sgOMuqN7Oh6"
      },
      "source": [
        "class OCC:\n",
        "    \n",
        "    def __init__(self, X, step = 0.05, eps = 0):\n",
        "        import matplotlib.pyplot as plt\n",
        "        import numpy as np\n",
        "        \n",
        "        self.X = X\n",
        "        self.n = X.shape[0]\n",
        "        self.figsize = (10,5)\n",
        "        \n",
        "        # plot parameters\n",
        "        self.step = step\n",
        "        self.eps = eps\n",
        "        self.norm_colors = mpl.colors.Normalize(vmin=0,vmax=100)\n",
        "        self.set_grid()\n",
        "        \n",
        "        pass\n",
        "    \n",
        "    # Plot functions\n",
        "    \n",
        "    def plot(self):\n",
        "        plt.scatter(self.X[:,0], self.X[:,1], edgecolors  = 'black')\n",
        "        plt.xlim((min(self.X[:,0])-self.step,max(self.X[:,0])+self.step))\n",
        "        plt.ylim((min(self.X[:,1])-self.step,max(self.X[:,1])+self.step))\n",
        "        pass\n",
        "    \n",
        "    def set_grid(self):\n",
        "        self.x_axis = np.arange(min(self.X[:,0])-self.step,max(self.X[:,0])+2*self.step,self.step)\n",
        "        self.y_axis = np.arange(min(self.X[:,1])-self.step,max(self.X[:,1])+2*self.step,self.step)\n",
        "\n",
        "        self.my_grid = []\n",
        "        for i in self.x_axis:\n",
        "            for j in self.y_axis:\n",
        "                self.my_grid.append([i,j])\n",
        "        self.my_grid = np.array(self.my_grid)\n",
        "\n",
        "        pass\n",
        "\n",
        "    def Normalize_Pred(self):    \n",
        "        self.pred_100 = self.pred -np.min(self.pred)\n",
        "        self.pred_100 = (self.pred_100 / np.max(self.pred_100)) * 100\n",
        "        pass\n",
        "\n",
        "    def set_delim(self):\n",
        "        ix_delim = np.where((self.pred  < self.eps) & (self.pred  > -self.eps))[0]\n",
        "        self.x_delim = []\n",
        "        self.y_delim = []\n",
        "        for i in range(len(ix_delim)):\n",
        "            a, b = np.divmod(ix_delim[i],len(self.y_axis))\n",
        "            self.x_delim.append(self.x_axis[a])\n",
        "            self.y_delim.append(self.y_axis[b])\n",
        "        pass\n",
        "\n",
        "    def plot_pred(self, pred):\n",
        "        \n",
        "        X_axis, Y_axis = np.meshgrid(self.x_axis, self.y_axis)\n",
        "        C = np.transpose(pred.reshape((len(self.x_axis), len(self.y_axis))))\n",
        "        plt.pcolor(X_axis, Y_axis, C, norm = self.norm_colors, cmap = 'YlOrRd')\n",
        "        plt.scatter(self.x_delim, self.y_delim, c = 'black', s = 10)\n",
        "        self.plot()\n",
        "        pass\n",
        "\n",
        "    def plot_pred_plan(self):\n",
        "        self.pred = self.predict(self.my_grid)\n",
        "        self.pred_bin = np.sign(self.pred)\n",
        "        self.set_delim()\n",
        "        self.Normalize_Pred()\n",
        "        \n",
        "        plt.figure(figsize=self.figsize)\n",
        "        plt.subplot(1,2,1)\n",
        "        self.plot_pred(self.pred_100)\n",
        "        plt.subplot(1,2,2)\n",
        "        self.plot_pred((self.pred_bin+1)*100)\n",
        "        pass\n",
        "    \n",
        "    \n",
        "    # Skeletons for fit and predict\n",
        "    def fit(self):\n",
        "        pass\n",
        "    \n",
        "    def predict(self):\n",
        "        pass\n",
        "    \n",
        "    # Others methods\n",
        "    def RBF_Kernel(self, X, sigma2, Y = None):\n",
        "        \" Compute the RBF kernel matrix of X\"\n",
        "        from sklearn.metrics.pairwise import euclidean_distances\n",
        "\n",
        "        if type(Y)==type(None):\n",
        "            Y = X\n",
        "\n",
        "        K = euclidean_distances(X,Y, squared=True)\n",
        "        K *= -1./sigma2\n",
        "        K = np.exp(K)\n",
        "        return K"
      ],
      "execution_count": 122,
      "outputs": []
    },
    {
      "cell_type": "code",
      "metadata": {
        "collapsed": true,
        "id": "7BRFKUrC7Oh9"
      },
      "source": [
        "class OSVM(OCC):\n",
        "    \" Support Vector Method for Novelty Detection \\\n",
        "      Bernhard Schokopf, Robert Williamsonx, Alex Smolax, John Shawe-Taylory, John Platt \\\n",
        "      Quadratic Programming \"\n",
        "    \n",
        "    def fit(self, nu, sigma2):\n",
        "        from cvxopt import solvers, lapack, matrix, spmatrix\n",
        "        solvers.options['show_progress'] = 0\n",
        "        \n",
        "        n = self.n\n",
        "        self.sigma2 = sigma2\n",
        "        K = self.RBF_Kernel(self.X, sigma2)\n",
        "\n",
        "        P = matrix(K, tc = 'd')\n",
        "        q = matrix([0]*n, tc = 'd')\n",
        "        G = matrix(np.concatenate([np.eye(n),-np.eye(n)], axis = 0), tc = 'd')\n",
        "        h_value = [1./(n * nu)]*n\n",
        "        h_value.extend([0]*n)\n",
        "        h = matrix(h_value, tc = 'd')\n",
        "        A = matrix(np.reshape([1]*n, (1,n)), tc = 'd')\n",
        "        b = matrix(1, tc = 'd')\n",
        "\n",
        "        sol = solvers.qp(P,q,G,h,A,b)\n",
        "        self.alpha = np.array(sol['x'])\n",
        "        ix_in = np.where((self.alpha > 1e-5) & (self.alpha < 1./(n*nu)))[0][0]\n",
        "        self.rho = np.inner(np.reshape(self.alpha, (1,n)), K[:,ix_in])\n",
        "        pass\n",
        "\n",
        "    def predict(self, newData):\n",
        "        K = self.RBF_Kernel(self.X, self.sigma2, newData)\n",
        "        return np.transpose(np.dot(np.reshape(self.alpha, (1,self.n)), K) - self.rho)"
      ],
      "execution_count": 123,
      "outputs": []
    },
    {
      "cell_type": "code",
      "metadata": {
        "collapsed": true,
        "id": "6HuOnyck7Oh-"
      },
      "source": [
        "class OSVM2(OCC):\n",
        "    \" Simple Incremental One-Class Support Vector Classification \\\n",
        "      Kai Labusch, Fabian Timm, and Thomas Martinetz \"\n",
        "    \n",
        "    def RBF_Kernel(self, X, sigma2, Y = None):\n",
        "        \" Compute the RBF kernel matrix of X\"\n",
        "        from sklearn.metrics.pairwise import euclidean_distances\n",
        "\n",
        "        if type(Y)==type(None):\n",
        "            Y = X\n",
        "\n",
        "        K = euclidean_distances(X,Y, squared=True)\n",
        "        K *= -1./sigma2\n",
        "        K = np.exp(K)\n",
        "        return K\n",
        "    \n",
        "    def fit(self, nu, sigma2, nbIter = 1000):\n",
        "        \n",
        "        n = self.n\n",
        "        self.sigma2 = sigma2\n",
        "        \n",
        "        K = self.RBF_Kernel(self.X, sigma2)\n",
        "        alpha = np.zeros(n)\n",
        "        count = 0\n",
        "        Z = self.X.copy()\n",
        "        i_min = np.random.choice(range(n), 1)\n",
        "        i_max = np.random.choice(range(n), 1)\n",
        "        while (i_max == i_min):\n",
        "            i_max = np.random.choice(range(n), 1)\n",
        "\n",
        "        while count < nbIter:\n",
        "            count = count + 1\n",
        "            K = self.RBF_Kernel(Z, 1)\n",
        "            h = np.dot(K + (n*nu)/2 * np.eye(n), alpha)\n",
        "            i_min2 = np.argmin(h)\n",
        "            ix_in = np.where(alpha > 1e-7)[0]\n",
        "            if len(ix_in) > 0:\n",
        "                i_max2 = ix_in[np.argmax(h[ix_in])]\n",
        "            else:\n",
        "                i_max2 = np.argmax(h)\n",
        "            Z[i_min,:] = Z[i_min2,:]\n",
        "            Z[i_max,:] = Z[i_max2,:]\n",
        "            i_min = i_min2\n",
        "            i_max = i_max2\n",
        "            i_min_alpha = np.argmin(alpha)\n",
        "            i_max_alpha = np.argmax(alpha)\n",
        "            alpha[i_min_alpha] = alpha[i_min_alpha]+2\n",
        "            alpha[i_max_alpha] = alpha[i_max_alpha]-1\n",
        "\n",
        "        h = np.dot(K + (n*nu)/2 * np.eye(n), alpha)\n",
        "        self.alpha = alpha / np.sqrt(np.dot(alpha, h))\n",
        "        h = np.dot(K + (n*nu)/2 * np.eye(n), self.alpha)\n",
        "        self.rho = min(h)\n",
        "        pass\n",
        "\n",
        "    def predict(self, newData):\n",
        "        K = self.RBF_Kernel(self.X, self.sigma2, newData)\n",
        "        return np.transpose(np.dot(np.reshape(self.alpha, (1,self.n)), K) - self.rho)"
      ],
      "execution_count": 124,
      "outputs": []
    },
    {
      "cell_type": "code",
      "metadata": {
        "collapsed": true,
        "id": "uz55wPIx7OiA"
      },
      "source": [
        "class OkNN(OCC):\n",
        "    \n",
        "    \" Multi-Class and Single-Class Classification Approaches to Vehicle Model Recognition from Images \\\n",
        "      Daniel T. Munroe and Michael G. Madden \"\n",
        "    \n",
        "    def fit(self, thresh, k, kernel = False):\n",
        "        self.thresh = thresh\n",
        "        self.k = k\n",
        "        self.kernel = kernel\n",
        "        \n",
        "        pass\n",
        "    \n",
        "    def predict(self, newData):\n",
        "        from sklearn.metrics.pairwise import euclidean_distances\n",
        "        \n",
        "        n = self.n\n",
        "        n2 = newData.shape[0]\n",
        "        \n",
        "        if self.kernel:\n",
        "            K = self.RBF_Kernel(self.X, 1)\n",
        "            K2 = np.transpose(self.RBF_Kernel(self.X, 1, newData))\n",
        "            D = euclidean_distances(K, K2, squared=True) # (n, len(newData))\n",
        "        else:\n",
        "            D = euclidean_distances(self.X, newData, squared=True) # (n, len(newData))\n",
        "        # Find k nearest neighbours for each column\n",
        "        col_range = range(D.shape[1])\n",
        "        \n",
        "        if self.k==1:\n",
        "            ix_nns = np.argsort(D, axis = 0)[:2, :]\n",
        "        else:\n",
        "            ix_nns = np.argsort(D, axis = 0)[:self.k, :]\n",
        "        ix_nn = ix_nns[0,:]\n",
        "        D1 = D[ix_nn, col_range]\n",
        "        D2 = np.mean(D[ix_nns, col_range], axis = 0)\n",
        "        #pred = np.array(D1/D2 < self.thresh, dtype = int)\n",
        "        pred = - D1/D2 + self.thresh\n",
        "        return pred"
      ],
      "execution_count": 125,
      "outputs": []
    },
    {
      "cell_type": "code",
      "metadata": {
        "collapsed": true,
        "id": "ZoAuj9yg7OiC"
      },
      "source": [
        "class OkMeans(OCC):\n",
        "    \" Visual Object Recognition through One-Class Learning \\\n",
        "      QingHua Wang, Luís Seabra Lopes, and David M. J. Tax \"\n",
        "    \n",
        "    def fit(self, thresh, k, kernel = False):\n",
        "        from sklearn.cluster import KMeans\n",
        "        \n",
        "        self.thresh = thresh\n",
        "        self.k = k\n",
        "        self.kernel = kernel\n",
        "        if kernel:\n",
        "            K = self.RBF_Kernel(self.X, 1)            \n",
        "        else:\n",
        "            K = self.X\n",
        "\n",
        "        kmeans = KMeans(n_clusters=k).fit(K)\n",
        "        self.centers = kmeans.cluster_centers_\n",
        "        \n",
        "        pass\n",
        "    \n",
        "    def predict(self, newData):\n",
        "        from sklearn.metrics.pairwise import euclidean_distances\n",
        "        if self.kernel:\n",
        "            newData = np.transpose(self.RBF_Kernel(self.X, 1, newData))\n",
        "        D = euclidean_distances(newData, self.centers, squared=True)\n",
        "        D = np.min(D, axis = 1)\n",
        "        pred = -D + self.thresh\n",
        "        return pred"
      ],
      "execution_count": 126,
      "outputs": []
    },
    {
      "cell_type": "code",
      "metadata": {
        "id": "M14Apa7S8PDQ"
      },
      "source": [
        "df = pd.read_csv(\"data.csv\")\n",
        "\n",
        "check = np.random.rand(len(df)) < 0.8\n",
        "train = df[check]\n",
        "test = df[~check]"
      ],
      "execution_count": 127,
      "outputs": []
    },
    {
      "cell_type": "code",
      "metadata": {
        "id": "qlqcBBVk8RBT"
      },
      "source": [
        "N1 = train.sample(5000)\n",
        "\n",
        "train1 = train.sample(5000)\n",
        "train1 = train1.replace('A', '1')\n",
        "train1 = train1.replace(['B', 'C', 'D', 'E', 'F', 'G', 'H', 'I', 'J', 'K', 'L', 'M', 'N', 'O', 'P', 'Q', 'R', 'S', 'T', 'U', 'V', 'W', 'X', 'Y', 'Z'], '-1')\n",
        "\n",
        "X = train1.drop(['class'], axis = 1).values\n",
        "\n",
        "testSample = test.sample(1000)\n",
        "X_test = testSample.drop(['class'], axis = 1).values\n",
        "Y_test = testSample['class']\n",
        "Y_test = Y_test.replace('A', '1')\n",
        "Y_test = Y_test.replace(['B', 'C', 'D', 'E', 'F', 'G', 'H', 'I', 'J', 'K', 'L', 'M', 'N', 'O', 'P', 'Q', 'R', 'S', 'T', 'U', 'V', 'W', 'X', 'Y', 'Z'], '-1')\n"
      ],
      "execution_count": 128,
      "outputs": []
    },
    {
      "cell_type": "code",
      "metadata": {
        "id": "GMOwZwvwR4Nw"
      },
      "source": [
        "arr2 = []\n",
        "for nums in Y_test.iteritems():\n",
        "    arr2.append(int(nums[1]))"
      ],
      "execution_count": 129,
      "outputs": []
    },
    {
      "cell_type": "code",
      "metadata": {
        "colab": {
          "base_uri": "https://localhost:8080/"
        },
        "id": "6UORASka-NvK",
        "outputId": "e0793683-c73b-4189-8e16-16f6d441efa3"
      },
      "source": [
        "osvm = OSVM(X) \n",
        "nu = 0.001 \n",
        "sigma2 = 20 \n",
        "osvm.fit(nu, sigma2) \n",
        "stored = osvm.predict(X_test)\n",
        "arr = []\n",
        "count = 0\n",
        "\n",
        "for i in range(stored.shape[0]):\n",
        "  if stored[i][0] > 0:\n",
        "    arr.append(1)\n",
        "  else:\n",
        "    arr.append(-1)\n",
        "  if arr[i]==arr2[i]:\n",
        "    count = count + 1\n",
        "accuracy = 100*count/len(arr)\n",
        "print(\"Accuracy : \",accuracy)"
      ],
      "execution_count": 130,
      "outputs": [
        {
          "output_type": "stream",
          "text": [
            "Accuracy :  26.1\n"
          ],
          "name": "stdout"
        }
      ]
    },
    {
      "cell_type": "code",
      "metadata": {
        "collapsed": true,
        "colab": {
          "base_uri": "https://localhost:8080/"
        },
        "id": "LcDF94O07OiK",
        "outputId": "69b780f5-3edb-4e94-f228-6f9ecbb3e725"
      },
      "source": [
        "osvm2 = OSVM2(X) \n",
        "nu = 0.001 \n",
        "sigma2 = 5\n",
        "osvm2.fit(nu, sigma2)\n",
        "stored = osvm2.predict(X_test)\n",
        "arr = []\n",
        "count = 0\n",
        "\n",
        "for i in range(stored.shape[0]):\n",
        "  if stored[i][0] > 0:\n",
        "    arr.append(1)\n",
        "  else:\n",
        "    arr.append(-1)\n",
        "  if arr[i]==arr2[i]:\n",
        "    count = count + 1\n",
        "accuracy = 100*count/len(arr)\n",
        "print(\"Accuracy : \",accuracy)"
      ],
      "execution_count": 131,
      "outputs": [
        {
          "output_type": "stream",
          "text": [
            "Accuracy :  3.5\n"
          ],
          "name": "stdout"
        }
      ]
    },
    {
      "cell_type": "code",
      "metadata": {
        "collapsed": true,
        "colab": {
          "base_uri": "https://localhost:8080/"
        },
        "id": "CXSv-C_E7OiL",
        "outputId": "d4a5e2c4-1433-4981-ce89-3b2d65955b82"
      },
      "source": [
        "oknn = OkNN(X) \n",
        "oknn.fit(thresh = 0.9, k = 1) \n",
        "stored = oknn.predict(X_test)\n",
        "arr = []\n",
        "count = 0\n",
        "\n",
        "i = 0\n",
        "for nums in stored:\n",
        "  if nums > 0:\n",
        "    arr.append(1)\n",
        "  else:\n",
        "    arr.append(-1)\n",
        "  if arr[i]==arr2[i]:\n",
        "    count = count + 1\n",
        "  i = i+1\n",
        "accuracy = 100*count/len(arr)\n",
        "print(\"Accuracy : \",accuracy)"
      ],
      "execution_count": 132,
      "outputs": [
        {
          "output_type": "stream",
          "text": [
            "Accuracy :  41.9\n"
          ],
          "name": "stdout"
        },
        {
          "output_type": "stream",
          "text": [
            "/usr/local/lib/python3.7/dist-packages/ipykernel_launcher.py:35: RuntimeWarning: invalid value encountered in true_divide\n"
          ],
          "name": "stderr"
        }
      ]
    },
    {
      "cell_type": "code",
      "metadata": {
        "collapsed": true,
        "colab": {
          "base_uri": "https://localhost:8080/"
        },
        "id": "vo2X5lRl7OiM",
        "outputId": "d0355c80-9ee4-4c3f-982a-dc2a1c948e54"
      },
      "source": [
        "oknn = OkNN(X) \n",
        "oknn.fit(thresh = 0.9, k = 1, kernel = True) \n",
        "stored = oknn.predict(X_test)\n",
        "arr = []\n",
        "count = 0\n",
        "\n",
        "i = 0\n",
        "for nums in stored:\n",
        "  if nums > 0:\n",
        "    arr.append(1)\n",
        "  else:\n",
        "    arr.append(-1)\n",
        "  if arr[i]==arr2[i]:\n",
        "    count = count + 1\n",
        "  i = i+1\n",
        "accuracy = 100*count/len(arr)\n",
        "print(\"Accuracy : \",accuracy)"
      ],
      "execution_count": 133,
      "outputs": [
        {
          "output_type": "stream",
          "text": [
            "Accuracy :  82.5\n"
          ],
          "name": "stdout"
        },
        {
          "output_type": "stream",
          "text": [
            "/usr/local/lib/python3.7/dist-packages/ipykernel_launcher.py:35: RuntimeWarning: invalid value encountered in true_divide\n"
          ],
          "name": "stderr"
        }
      ]
    },
    {
      "cell_type": "code",
      "metadata": {
        "colab": {
          "base_uri": "https://localhost:8080/"
        },
        "id": "xnyZjQAj8jPy",
        "outputId": "528daeb1-a592-42d4-fbff-981dce30c0f1"
      },
      "source": [
        "okmeans = OkMeans(X) \n",
        "okmeans.fit(thresh = 10, k = 1) \n",
        "stored = okmeans.predict(X_test)\n",
        "arr = []\n",
        "count = 0\n",
        "\n",
        "i = 0\n",
        "for nums in stored:\n",
        "  if nums > 0:\n",
        "    arr.append(1)\n",
        "  else:\n",
        "    arr.append(-1)\n",
        "  if arr[i]==arr2[i]:\n",
        "    count = count + 1\n",
        "  i = i+1\n",
        "accuracy = 100*count/len(arr)\n",
        "print(\"Accuracy : \",accuracy)"
      ],
      "execution_count": 134,
      "outputs": [
        {
          "output_type": "stream",
          "text": [
            "Accuracy :  96.3\n"
          ],
          "name": "stdout"
        }
      ]
    },
    {
      "cell_type": "code",
      "metadata": {
        "colab": {
          "base_uri": "https://localhost:8080/"
        },
        "id": "eTH7PcTG8juY",
        "outputId": "2bc991ff-4e0e-4337-b915-445acf79dd1b"
      },
      "source": [
        "okmeans = OkMeans(X) \n",
        "okmeans.fit(thresh = 20, k = 1, kernel = True) \n",
        "stored = okmeans.predict(X_test)\n",
        "arr = []\n",
        "count = 0\n",
        "\n",
        "i = 0\n",
        "for nums in stored:\n",
        "  if nums > 0:\n",
        "    arr.append(1)\n",
        "  else:\n",
        "    arr.append(-1)\n",
        "  if arr[i]==arr2[i]:\n",
        "    count = count + 1\n",
        "  i = i+1\n",
        "accuracy = 100*count/len(arr)\n",
        "print(\"Accuracy : \",accuracy)"
      ],
      "execution_count": 135,
      "outputs": [
        {
          "output_type": "stream",
          "text": [
            "Accuracy :  3.5\n"
          ],
          "name": "stdout"
        }
      ]
    }
  ]
}