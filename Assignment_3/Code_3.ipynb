{
  "nbformat": 4,
  "nbformat_minor": 0,
  "metadata": {
    "colab": {
      "name": "DMIQ3.ipynb",
      "provenance": []
    },
    "kernelspec": {
      "name": "python3",
      "display_name": "Python 3"
    }
  },
  "cells": [
    {
      "cell_type": "markdown",
      "metadata": {
        "id": "WA3Bhr-XVfoY"
      },
      "source": [
        "<font color=\"#dd3542\">Importing the required Libraries</font>"
      ]
    },
    {
      "cell_type": "code",
      "metadata": {
        "id": "z0bQKEZEH6h5"
      },
      "source": [
        "import pandas as pd\r\n",
        "import numpy as np\r\n",
        "import random\r\n",
        "import matplotlib.pyplot as plt\r\n",
        "from sklearn import svm,metrics\r\n",
        "import random\r\n",
        "import math"
      ],
      "execution_count": 31,
      "outputs": []
    },
    {
      "cell_type": "markdown",
      "metadata": {
        "id": "uU_kgfjjVw-F"
      },
      "source": [
        "<font color=\"#dd3542\">Reading data from the csv file and some processing</font>"
      ]
    },
    {
      "cell_type": "code",
      "metadata": {
        "id": "TboLkwzuRXa5"
      },
      "source": [
        "df = pd.read_csv(\"letter-recognition.csv\")\r\n",
        "sam = []\r\n",
        "msk = np.random.rand(len(df)) < 0.8\r\n",
        "train = df[msk]\r\n",
        "test = df[~msk]"
      ],
      "execution_count": 32,
      "outputs": []
    },
    {
      "cell_type": "markdown",
      "metadata": {
        "id": "1pq-F6kIWKPK"
      },
      "source": [
        "<font color=\"#dd3542\">Labelling the classes as +1 and -1 to apply the algorithm</font>"
      ]
    },
    {
      "cell_type": "code",
      "metadata": {
        "id": "Qp1WWGXKSZJF"
      },
      "source": [
        "m = train;\r\n",
        "N1 = m.sample(10000) #for our sample\r\n",
        "m1=m.sample(10000)\r\n",
        "m1=m1.replace('A','1')\r\n",
        "m1=m1.replace(['B','C','D','E','F','G','E','F','G','H','I','J','K','L','M','N','O','P','Q','R','S','T','U','V','W','X','Y','Z'],'-1')\r\n",
        "m1\r\n",
        "X = m1.drop(['target'],axis=1).values   # independent features\r\n",
        "y = m1['target']\r\n",
        "y1 = y\r\n",
        "\r\n",
        "#replacing A with +1 and everything else with -1\r\n"
      ],
      "execution_count": 33,
      "outputs": []
    },
    {
      "cell_type": "markdown",
      "metadata": {
        "id": "7tLIyQ6nWg3p"
      },
      "source": [
        "<font color=\"#dd3542\">Processing the initial model for SVM</font>"
      ]
    },
    {
      "cell_type": "code",
      "metadata": {
        "id": "h1V0yvsWSgjY"
      },
      "source": [
        "svc = svm.SVC(kernel='linear', C=1).fit(X, y1)"
      ],
      "execution_count": 34,
      "outputs": []
    },
    {
      "cell_type": "markdown",
      "metadata": {
        "id": "1AMazr0RWn0Y"
      },
      "source": [
        "<font color=\"#dd3542\">The loss function</font>"
      ]
    },
    {
      "cell_type": "code",
      "metadata": {
        "id": "_qHqUSmeS4l_"
      },
      "source": [
        "def l(smodel,zgiven):\r\n",
        "\tans=1-int(smodel.predict(zgiven.drop(['target','index'],axis=1).values[0].reshape(1,-1))[0])*int(zgiven['target'].values)\r\n",
        "\treturn ans"
      ],
      "execution_count": 35,
      "outputs": []
    },
    {
      "cell_type": "markdown",
      "metadata": {
        "id": "OYrWajEjWvDE"
      },
      "source": [
        "<font color=\"#dd3542\">Procedure to find the sampled data</font>"
      ]
    },
    {
      "cell_type": "code",
      "metadata": {
        "id": "zS0nH2HOS_de"
      },
      "source": [
        "f0 = svc\r\n",
        "sam = []\r\n",
        "mp=0\r\n",
        "mm=0\r\n",
        "k =0\r\n",
        "flag=0\r\n",
        "ztplus1 = m1.sample()\r\n",
        "while (mp<(len(m1)/2) and mm<(len(m1)/2)):\r\n",
        "  \r\n",
        "\tzt = m1.sample()\r\n",
        "\tif (int(zt['target'].values)==1):\r\n",
        "\t\tmp=mp+1\r\n",
        "\telse:\r\n",
        "\t\tmm = mm+1\r\n",
        "\tz_star = m1.sample()\r\n",
        "\tzt.insert(0, 'index', 0)\r\n",
        "\tz_star.insert(0, 'index', 0)\r\n",
        "\tif (flag==1):\r\n",
        "\t\tzt = ztplus1\r\n",
        "\tp1 = math.exp(-l(f0,zt))\r\n",
        "\tp2 = math.exp(-l(f0,z_star))\r\n",
        "\tP= p1/p2\r\n",
        "\r\n",
        "\tyt =int(zt['target'].values)\r\n",
        "\ty_star =int(z_star['target'].values)\r\n",
        "\tif (k==5):\r\n",
        "\t\tztplus1 = z_star\r\n",
        "\t\tflag =1\r\n",
        "\r\n",
        "\t\tP_double_dash = 1.2*P\r\n",
        "\t\tif (P_double_dash>1):\r\n",
        "\t\t  sam.append(z_star.index)\r\n",
        "\t\telse:\r\n",
        "\t\t   ran_p = random.uniform(0, 1)\r\n",
        "\t\t   if (P_double_dash>ran_p):\r\n",
        "\t\t    sam.append(z_star.index)\r\n",
        "\t\t    \r\n",
        "\t\t   else:\r\n",
        "\t\t    k=0\r\n",
        "\t\tcontinue\r\n",
        "\t\r\n",
        "\tif ((P==1 and yt==-1 and y_star == -1) or (P==1 and yt==1 and y_star == 1) ):\r\n",
        "\t\r\n",
        "\t\tind = z_star.index\r\n",
        "\t\tx = z_star.drop(['target','index'],axis=1).values[0].reshape(1,-1)\r\n",
        "\t\tx1 = zt.drop(['target','index'],axis=1).values[0].reshape(1,-1)\r\n",
        "\t\tP_dash =  math.exp(-y_star)*int(f0.predict(x)[0])/(-yt*int(f0.predict(x1)[0]))\r\n",
        "\t\tran_p = random.uniform(0, 1)\r\n",
        "\t\tif (P_dash>ran_p):\r\n",
        "\t\t  sam.append(z_star.index)\r\n",
        "\t\t  k = k+1\r\n",
        "\t\telse:\r\n",
        "\t\t    k=0\r\n",
        "\tif ((P==1 and yt*y_star == -1) or (P<1) ):\r\n",
        "\t\tind = z_star.index\r\n",
        "    \r\n",
        "\r\n",
        "\t\tP_dash = P\r\n",
        "\t\tran_p = random.uniform(0, 1)\r\n",
        "\t\tif (P_dash>ran_p):\r\n",
        "\t\t  sam.append(z_star.index)\r\n",
        "    \r\n",
        "\t\t  k = k+1\r\n",
        "\t\telse:\r\n",
        "\t\t    k=0"
      ],
      "execution_count": 36,
      "outputs": []
    },
    {
      "cell_type": "markdown",
      "metadata": {
        "id": "InFvJlDtW3BB"
      },
      "source": [
        "<font color=\"#dd3542\">Final sampled dataset to be used</font>"
      ]
    },
    {
      "cell_type": "code",
      "metadata": {
        "id": "g-kVHahJTd2o"
      },
      "source": [
        "tobeused=[]\r\n",
        "for i in range(len(sam)):\r\n",
        "  tobeused.append(int(sam[i][0]))\r\n",
        "findataset=df.iloc[tobeused]"
      ],
      "execution_count": 37,
      "outputs": []
    },
    {
      "cell_type": "markdown",
      "metadata": {
        "id": "Tq49y2gHW-IQ"
      },
      "source": [
        "<font color=\"#dd3542\">Training SVM</font>"
      ]
    },
    {
      "cell_type": "code",
      "metadata": {
        "id": "RJMpoZevUFL6"
      },
      "source": [
        "X_2 = findataset.drop(['target'],axis=1).values   # independent features\r\n",
        "y_2 = findataset['target']\r\n",
        "sv_neww = svm.SVC(kernel='linear', C=1).fit(X_2, y_2)"
      ],
      "execution_count": 38,
      "outputs": []
    },
    {
      "cell_type": "markdown",
      "metadata": {
        "id": "KdKLAP95XHYd"
      },
      "source": [
        "<font color=\"#dd3542\">Accuracy calculation</font>"
      ]
    },
    {
      "cell_type": "code",
      "metadata": {
        "colab": {
          "base_uri": "https://localhost:8080/"
        },
        "id": "GPVyVqRhUqVF",
        "outputId": "bc306cc5-d55d-4dcc-be2c-3ddf45943680"
      },
      "source": [
        "X_orig=df.drop(['target'],axis=1).values\r\n",
        "Y_orig=df['target']\r\n",
        "y_pred = sv_neww.predict(X_orig)\r\n",
        "print(\"Accuracy:\",metrics.accuracy_score(Y_orig, y_pred))"
      ],
      "execution_count": 39,
      "outputs": [
        {
          "output_type": "stream",
          "text": [
            "Accuracy: 0.84805\n"
          ],
          "name": "stdout"
        }
      ]
    }
  ]
}