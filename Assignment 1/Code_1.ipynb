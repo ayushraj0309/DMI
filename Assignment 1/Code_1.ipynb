{
  "nbformat": 4,
  "nbformat_minor": 0,
  "metadata": {
    "colab": {
      "name": "DMIQ1.ipynb",
      "provenance": []
    },
    "kernelspec": {
      "name": "python3",
      "display_name": "Python 3"
    }
  },
  "cells": [
    {
      "cell_type": "markdown",
      "metadata": {
        "id": "WRUjMy42bDZN"
      },
      "source": [
        "<font color=\"#dd3542\">Importing required libraries</font>"
      ]
    },
    {
      "cell_type": "code",
      "metadata": {
        "id": "UGwP7aLpa92B"
      },
      "source": [
        "import pandas as pd\r\n",
        "import numpy as np\r\n",
        "import random\r\n",
        "import matplotlib.pyplot as plt\r\n",
        "from sklearn import svm,metrics\r\n",
        "import random\r\n",
        "import math"
      ],
      "execution_count": 10,
      "outputs": []
    },
    {
      "cell_type": "markdown",
      "metadata": {
        "id": "p_75Eyl3cIku"
      },
      "source": [
        "<font color=\"#dd3542\">Reading data and some further processing</font>"
      ]
    },
    {
      "cell_type": "code",
      "metadata": {
        "id": "H1uT8pVHbY3x"
      },
      "source": [
        "df = pd.read_csv(\"letter-recognition.csv\")\r\n",
        "msk = np.random.rand(len(df)) < 0.8\r\n",
        "train = df[msk]\r\n",
        "test = df[~msk]\r\n",
        "m = train;\r\n",
        "m1=m.sample(9000)\r\n",
        "m1=m1.replace('A','1')\r\n",
        "m1=m1.replace(['B','C','D','E','F','G','E','F','G','H','I','J','K','L','M','N','O','P','Q','R','S','T','U','V','W','X','Y','Z'],'-1')\r\n",
        "m1\r\n",
        "X = m1.drop(['target'],axis=1).values   # independent features\r\n",
        "y = m1['target']\r\n",
        "y1 = y\r\n",
        "\r\n",
        "#replacing A with +1 and everything else with -1"
      ],
      "execution_count": 11,
      "outputs": []
    },
    {
      "cell_type": "markdown",
      "metadata": {
        "id": "Xi8u7RFMcVlz"
      },
      "source": [
        "<font color=\"#dd3542\">Training initial SVM</font>\r\n",
        "\r\n"
      ]
    },
    {
      "cell_type": "code",
      "metadata": {
        "id": "zxPJMjp0cMTw"
      },
      "source": [
        "svc = svm.SVC(kernel='linear', C=1).fit(X, y1)\r\n",
        "f0=svc"
      ],
      "execution_count": 12,
      "outputs": []
    },
    {
      "cell_type": "markdown",
      "metadata": {
        "id": "d2Xmsc03c5a7"
      },
      "source": [
        "<font color=\"#dd3542\">Defining Loss function</font>"
      ]
    },
    {
      "cell_type": "code",
      "metadata": {
        "id": "S8ItIZ7PccB6"
      },
      "source": [
        "def l(smodel,zgiven):\r\n",
        "\tans=1-int(float(smodel.predict(zgiven.drop(['target','index'],axis=1).values[0].reshape(1,-1))[0]))*int(zgiven['target'].values)\r\n",
        "\treturn ans"
      ],
      "execution_count": 13,
      "outputs": []
    },
    {
      "cell_type": "markdown",
      "metadata": {
        "id": "scV5vs8Tcxuy"
      },
      "source": [
        "<font color=\"#dd3542\">Application of the algorithm</font>"
      ]
    },
    {
      "cell_type": "code",
      "metadata": {
        "id": "YOP47HKKcnYb"
      },
      "source": [
        "n2=30\r\n",
        "k_val=2\r\n",
        "fi=svc\r\n",
        "sam=[]\r\n",
        "flag=0\r\n",
        "fcurr=fi\r\n",
        "q=1.2\r\n",
        "k=0\r\n",
        "ztplus1 = m1.sample()\r\n",
        "for i in range(k_val+1):\r\n",
        "  if (i!=0):\r\n",
        "    tobeusedlis=[]\r\n",
        "    for j in range(len(sam)):\r\n",
        "      tobeusedlis.append(int(sam[j][0]))\r\n",
        "    tempdataset=df.iloc[tobeusedlis]\r\n",
        "    tempdataset=tempdataset.replace('A','1')\r\n",
        "    tempdataset=tempdataset.replace(['B','C','D','E','F','G','E','F','G','H','I','J','K','L','M','N','O','P','Q','R','S','T','U','V','W','X','Y','Z'],'-1')\r\n",
        "    xtemp=tempdataset.drop(['target'],axis=1).values\r\n",
        "    ytemp=tempdataset['target']\r\n",
        "    fcurr=svm.SVC(kernel='linear',C=1).fit(xtemp,ytemp)\r\n",
        "\r\n",
        "  np=0 #n+\r\n",
        "  nm=0 #n-\r\n",
        "  sam.clear()\r\n",
        "  t=1\r\n",
        "  checkflag=0\r\n",
        "  zt = m1.sample()\r\n",
        "  if (int(zt['target'].values)==1):\r\n",
        "    np=np+1\r\n",
        "  else:\r\n",
        "    nm=nm+1\r\n",
        "  while (np+nm<len(m1)):\r\n",
        "    z_star=m1.sample()\r\n",
        "    if (checkflag==0):\r\n",
        "      zt.insert(0,'index',0)\r\n",
        "      checkflag=1\r\n",
        "    #zt.insert(0,'index',0)\r\n",
        "    z_star.insert(0,'index',0)\r\n",
        "    if (flag==1):\r\n",
        "      zt=ztplus1\r\n",
        "    p1 = math.exp(-l(fcurr,zt))\r\n",
        "    p2 = math.exp(-l(fcurr,z_star))\r\n",
        "    alpha=p2/p1\r\n",
        "    yt =int(zt['target'].values)\r\n",
        "    y_star =int(z_star['target'].values)\r\n",
        "\r\n",
        "    if (k==n2):\r\n",
        "      flag=1\r\n",
        "      alpha2=q*alpha\r\n",
        "      if (alpha2>=1):\r\n",
        "        sam.append(z_star.index)\r\n",
        "      else:\r\n",
        "        ran_p=random.uniform(0,1)\r\n",
        "        if (alpha2>ran_p):\r\n",
        "          sam.append(zstar.index)\r\n",
        "          ztplus1=z_star\r\n",
        "          if (y_star==1):\r\n",
        "            np=np+1\r\n",
        "          else:\r\n",
        "            nm=nm+1\r\n",
        "        else:\r\n",
        "          k=0\r\n",
        "        continue\r\n",
        "\r\n",
        "    \r\n",
        "\r\n",
        "\r\n",
        "    if (alpha>=1 and yt*y_star==1):\r\n",
        "      ind=z_star.index\r\n",
        "      x = z_star.drop(['target','index'],axis=1).values[0].reshape(1,-1)\r\n",
        "      x1 = zt.drop(['target','index'],axis=1).values[0].reshape(1,-1)\r\n",
        "      P_dash =  math.exp(-y_star)*int(fcurr.predict(x)[0])/(-yt*int(fcurr.predict(x1)[0]))\r\n",
        "      ran_p = random.uniform(0, 1)\r\n",
        "      flag=0\r\n",
        "      if (P_dash>ran_p):\r\n",
        "        sam.append(z_star.index)\r\n",
        "        if (y_star==1):\r\n",
        "          np=np+1\r\n",
        "        else:\r\n",
        "          nm=nm+1\r\n",
        "        k=k+1\r\n",
        "      continue\r\n",
        "\r\n",
        "    if ((yt*y_star==-1 and alpha==1)or(alpha<1)):\r\n",
        "      ind=z_star.index\r\n",
        "      x = z_star.drop(['target','index'],axis=1).values[0].reshape(1,-1)\r\n",
        "      x1 = zt.drop(['target','index'],axis=1).values[0].reshape(1,-1)\r\n",
        "      #P_dash =  math.exp(-y_star)*int(f0.predict(x)[0])/(-yt*int(f0.predict(x1)[0]))\r\n",
        "      ran_p=random.uniform(0,1)\r\n",
        "      flag=0\r\n",
        "      if (alpha>ran_p):\r\n",
        "        sam.append(z_star.index)\r\n",
        "        if (y_star==1):\r\n",
        "          np=np+1\r\n",
        "        else:\r\n",
        "          nm=nm+1\r\n",
        "        k=k+1\r\n",
        "      continue\r\n",
        "\r\n"
      ],
      "execution_count": 14,
      "outputs": []
    },
    {
      "cell_type": "markdown",
      "metadata": {
        "id": "VqPjH6m9dP11"
      },
      "source": [
        "<font color=\"#dd3542\">Retrieving the sampled dataset</font>"
      ]
    },
    {
      "cell_type": "code",
      "metadata": {
        "id": "5Tn5zptLdJJK"
      },
      "source": [
        "finlis=[]\r\n",
        "for i in range(len(sam)):\r\n",
        "  finlis.append(int(sam[i][0]))\r\n",
        "findataset=df.iloc[finlis]"
      ],
      "execution_count": 15,
      "outputs": []
    },
    {
      "cell_type": "markdown",
      "metadata": {
        "id": "UrNpT8Ljdi1c"
      },
      "source": [
        "<font color=\"#dd3542\">Training the model</font>"
      ]
    },
    {
      "cell_type": "code",
      "metadata": {
        "id": "5LUQt4oAdY2S"
      },
      "source": [
        "X_2 = findataset.drop(['target'],axis=1).values   # independent features\r\n",
        "y_2 = findataset['target']\r\n",
        "sv_neww = svm.SVC(kernel='linear', C=1).fit(X_2, y_2)"
      ],
      "execution_count": 16,
      "outputs": []
    },
    {
      "cell_type": "markdown",
      "metadata": {
        "id": "hLPPE9AxdtnX"
      },
      "source": [
        "<font color=\"#dd3542\">Printing the final accuracy</font>"
      ]
    },
    {
      "cell_type": "code",
      "metadata": {
        "colab": {
          "base_uri": "https://localhost:8080/"
        },
        "id": "VGggt8GJdnsM",
        "outputId": "e813572e-3112-4b1a-a926-ae55b1ad47f4"
      },
      "source": [
        "X_orig=df.drop(['target'],axis=1).values\r\n",
        "Y_orig=df['target']\r\n",
        "y_pred = sv_neww.predict(X_orig)\r\n",
        "print(\"Accuracy:\",metrics.accuracy_score(Y_orig, y_pred))"
      ],
      "execution_count": 17,
      "outputs": [
        {
          "output_type": "stream",
          "text": [
            "Accuracy: 0.85225\n"
          ],
          "name": "stdout"
        }
      ]
    },
    {
      "cell_type": "code",
      "metadata": {
        "id": "mlfE_8aYd1Ba"
      },
      "source": [
        ""
      ],
      "execution_count": 17,
      "outputs": []
    }
  ]
}